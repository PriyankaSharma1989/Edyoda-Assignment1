{
 "cells": [
  {
   "cell_type": "code",
   "execution_count": 1,
   "id": "6dadc697",
   "metadata": {},
   "outputs": [
    {
     "name": "stdout",
     "output_type": "stream",
     "text": [
      "enter the word:Edyoda\n",
      "adoydE"
     ]
    }
   ],
   "source": [
    "# Write a Python program that accepts a word from the user and reverse it\n",
    "w=input(\"enter the word:\")\n",
    "for i in range((len(w)-1),-1,-1):\n",
    "    print(w[i],end=\"\")\n"
   ]
  },
  {
   "cell_type": "code",
   "execution_count": null,
   "id": "fa1eb354",
   "metadata": {},
   "outputs": [],
   "source": []
  }
 ],
 "metadata": {
  "kernelspec": {
   "display_name": "Python 3 (ipykernel)",
   "language": "python",
   "name": "python3"
  },
  "language_info": {
   "codemirror_mode": {
    "name": "ipython",
    "version": 3
   },
   "file_extension": ".py",
   "mimetype": "text/x-python",
   "name": "python",
   "nbconvert_exporter": "python",
   "pygments_lexer": "ipython3",
   "version": "3.9.12"
  }
 },
 "nbformat": 4,
 "nbformat_minor": 5
}
