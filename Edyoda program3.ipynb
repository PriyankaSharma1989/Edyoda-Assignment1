{
 "cells": [
  {
   "cell_type": "code",
   "execution_count": 1,
   "id": "d4568c0e",
   "metadata": {},
   "outputs": [
    {
     "name": "stdout",
     "output_type": "stream",
     "text": [
      "Number of even numbers: 0\n",
      "Number of odd numbers: 1\n",
      "Number of even numbers: 1\n",
      "Number of odd numbers: 2\n",
      "Number of even numbers: 2\n",
      "Number of odd numbers: 3\n",
      "Number of even numbers: 3\n",
      "Number of odd numbers: 4\n",
      "Number of even numbers: 4\n",
      "Number of odd numbers: 5\n"
     ]
    }
   ],
   "source": [
    "#Write a Python program to count the number of even and odd numbers from a series of numbers.\n",
    "#Sample numbers : numbers = (1, 2, 3, 4, 5, 6, 7, 8, 9) \n",
    "#Expected Output :\n",
    "#Number of even numbers : 4\n",
    "#Number of odd numbers : 5\n",
    "\n",
    "list=[1,2,3,4,5,6,7,8,9]\n",
    "count_even=0\n",
    "count_odd=0\n",
    "for i in list:\n",
    "    if i%2==0:\n",
    "        count_even=count_even+1\n",
    "    else:\n",
    "        count_odd=count_odd+1\n",
    "        print(\"Number of even numbers:\", count_even)\n",
    "        print(\"Number of odd numbers:\", count_odd)\n",
    "        "
   ]
  },
  {
   "cell_type": "code",
   "execution_count": null,
   "id": "ab40681f",
   "metadata": {},
   "outputs": [],
   "source": []
  }
 ],
 "metadata": {
  "kernelspec": {
   "display_name": "Python 3 (ipykernel)",
   "language": "python",
   "name": "python3"
  },
  "language_info": {
   "codemirror_mode": {
    "name": "ipython",
    "version": 3
   },
   "file_extension": ".py",
   "mimetype": "text/x-python",
   "name": "python",
   "nbconvert_exporter": "python",
   "pygments_lexer": "ipython3",
   "version": "3.9.12"
  }
 },
 "nbformat": 4,
 "nbformat_minor": 5
}
